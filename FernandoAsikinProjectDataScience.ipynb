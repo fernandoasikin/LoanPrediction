{
  "nbformat": 4,
  "nbformat_minor": 0,
  "metadata": {
    "colab": {
      "name": "FernandoAsikinProjectDataScience.ipynb",
      "provenance": [],
      "collapsed_sections": []
    },
    "kernelspec": {
      "name": "python3",
      "display_name": "Python 3"
    },
    "language_info": {
      "name": "python"
    }
  },
  "cells": [
    {
      "cell_type": "markdown",
      "metadata": {
        "id": "N16_zYT9WM0-"
      },
      "source": [
        "# **Fernando Asikin**\n",
        "# **Project Data Science**"
      ]
    },
    {
      "cell_type": "markdown",
      "metadata": {
        "id": "aUdDJ7O3e0OI"
      },
      "source": [
        "# **Melakukan import library-library yang dibutuhkan**"
      ]
    },
    {
      "cell_type": "code",
      "metadata": {
        "id": "Bupg-9VzWLuL"
      },
      "source": [
        "import numpy as np\n",
        "import pandas as pd\n",
        "import matplotlib.pyplot as plt\n",
        "import seaborn as sns\n",
        "from sklearn.preprocessing import LabelEncoder\n",
        "from sklearn.model_selection import train_test_split\n",
        "from sklearn.linear_model import LogisticRegression \n",
        "from sklearn.metrics import accuracy_score, precision_score, recall_score, f1_score\n",
        "from sklearn.metrics import confusion_matrix\n",
        "import warnings\n",
        "warnings.filterwarnings('ignore')"
      ],
      "execution_count": 1,
      "outputs": []
    },
    {
      "cell_type": "markdown",
      "metadata": {
        "id": "qMazHMDHe4Wn"
      },
      "source": [
        "# **Melakukan load dataset**"
      ]
    },
    {
      "cell_type": "markdown",
      "metadata": {
        "id": "xgsnIzKUlalb"
      },
      "source": [
        "**Mencoba membaca data dari file yang telah di unzip**"
      ]
    },
    {
      "cell_type": "code",
      "metadata": {
        "id": "O0dyXPz0ezQG",
        "colab": {
          "base_uri": "https://localhost:8080/"
        },
        "outputId": "9811bcba-10a2-4b7a-e36f-7bf86d066791"
      },
      "source": [
        "from zipfile import ZipFile\n",
        "\n",
        "file_name = \"Dataset.zip\"\n",
        "\n",
        "with ZipFile(file_name, 'r') as zip:\n",
        "  zip.extractall()\n",
        "  print('sudah diekstrak')"
      ],
      "execution_count": 2,
      "outputs": [
        {
          "output_type": "stream",
          "name": "stdout",
          "text": [
            "sudah diekstrak\n"
          ]
        }
      ]
    },
    {
      "cell_type": "markdown",
      "metadata": {
        "id": "dD5QANPtfpqP"
      },
      "source": [
        "# **Melakukan load Dataset**"
      ]
    },
    {
      "cell_type": "markdown",
      "metadata": {
        "id": "TGYQi3IFlepb"
      },
      "source": [
        "**Load dataset dari Train.csv**"
      ]
    },
    {
      "cell_type": "code",
      "metadata": {
        "id": "ejc0bBLAfrFc"
      },
      "source": [
        "df_train = pd.read_csv(\"Train.csv\")"
      ],
      "execution_count": 3,
      "outputs": []
    },
    {
      "cell_type": "code",
      "metadata": {
        "colab": {
          "base_uri": "https://localhost:8080/",
          "height": 206
        },
        "id": "mH98cEWNfwdD",
        "outputId": "e144ef2f-60a1-47b9-de8c-b9020c8813cc"
      },
      "source": [
        "df_train.head()"
      ],
      "execution_count": 4,
      "outputs": [
        {
          "output_type": "execute_result",
          "data": {
            "text/html": [
              "<div>\n",
              "<style scoped>\n",
              "    .dataframe tbody tr th:only-of-type {\n",
              "        vertical-align: middle;\n",
              "    }\n",
              "\n",
              "    .dataframe tbody tr th {\n",
              "        vertical-align: top;\n",
              "    }\n",
              "\n",
              "    .dataframe thead th {\n",
              "        text-align: right;\n",
              "    }\n",
              "</style>\n",
              "<table border=\"1\" class=\"dataframe\">\n",
              "  <thead>\n",
              "    <tr style=\"text-align: right;\">\n",
              "      <th></th>\n",
              "      <th>Loan_ID</th>\n",
              "      <th>Gender</th>\n",
              "      <th>Married</th>\n",
              "      <th>Dependents</th>\n",
              "      <th>Education</th>\n",
              "      <th>Self_Employed</th>\n",
              "      <th>ApplicantIncome</th>\n",
              "      <th>CoapplicantIncome</th>\n",
              "      <th>LoanAmount</th>\n",
              "      <th>Loan_Amount_Term</th>\n",
              "      <th>Credit_History</th>\n",
              "      <th>Property_Area</th>\n",
              "      <th>Loan_Status</th>\n",
              "    </tr>\n",
              "  </thead>\n",
              "  <tbody>\n",
              "    <tr>\n",
              "      <th>0</th>\n",
              "      <td>LP001002</td>\n",
              "      <td>Male</td>\n",
              "      <td>No</td>\n",
              "      <td>0</td>\n",
              "      <td>Graduate</td>\n",
              "      <td>No</td>\n",
              "      <td>5849</td>\n",
              "      <td>0.0</td>\n",
              "      <td>NaN</td>\n",
              "      <td>360.0</td>\n",
              "      <td>1.0</td>\n",
              "      <td>Urban</td>\n",
              "      <td>Y</td>\n",
              "    </tr>\n",
              "    <tr>\n",
              "      <th>1</th>\n",
              "      <td>LP001003</td>\n",
              "      <td>Male</td>\n",
              "      <td>Yes</td>\n",
              "      <td>1</td>\n",
              "      <td>Graduate</td>\n",
              "      <td>No</td>\n",
              "      <td>4583</td>\n",
              "      <td>1508.0</td>\n",
              "      <td>128.0</td>\n",
              "      <td>360.0</td>\n",
              "      <td>1.0</td>\n",
              "      <td>Rural</td>\n",
              "      <td>N</td>\n",
              "    </tr>\n",
              "    <tr>\n",
              "      <th>2</th>\n",
              "      <td>LP001005</td>\n",
              "      <td>Male</td>\n",
              "      <td>Yes</td>\n",
              "      <td>0</td>\n",
              "      <td>Graduate</td>\n",
              "      <td>Yes</td>\n",
              "      <td>3000</td>\n",
              "      <td>0.0</td>\n",
              "      <td>66.0</td>\n",
              "      <td>360.0</td>\n",
              "      <td>1.0</td>\n",
              "      <td>Urban</td>\n",
              "      <td>Y</td>\n",
              "    </tr>\n",
              "    <tr>\n",
              "      <th>3</th>\n",
              "      <td>LP001006</td>\n",
              "      <td>Male</td>\n",
              "      <td>Yes</td>\n",
              "      <td>0</td>\n",
              "      <td>Not Graduate</td>\n",
              "      <td>No</td>\n",
              "      <td>2583</td>\n",
              "      <td>2358.0</td>\n",
              "      <td>120.0</td>\n",
              "      <td>360.0</td>\n",
              "      <td>1.0</td>\n",
              "      <td>Urban</td>\n",
              "      <td>Y</td>\n",
              "    </tr>\n",
              "    <tr>\n",
              "      <th>4</th>\n",
              "      <td>LP001008</td>\n",
              "      <td>Male</td>\n",
              "      <td>No</td>\n",
              "      <td>0</td>\n",
              "      <td>Graduate</td>\n",
              "      <td>No</td>\n",
              "      <td>6000</td>\n",
              "      <td>0.0</td>\n",
              "      <td>141.0</td>\n",
              "      <td>360.0</td>\n",
              "      <td>1.0</td>\n",
              "      <td>Urban</td>\n",
              "      <td>Y</td>\n",
              "    </tr>\n",
              "  </tbody>\n",
              "</table>\n",
              "</div>"
            ],
            "text/plain": [
              "    Loan_ID Gender Married  ... Credit_History Property_Area Loan_Status\n",
              "0  LP001002   Male      No  ...            1.0         Urban           Y\n",
              "1  LP001003   Male     Yes  ...            1.0         Rural           N\n",
              "2  LP001005   Male     Yes  ...            1.0         Urban           Y\n",
              "3  LP001006   Male     Yes  ...            1.0         Urban           Y\n",
              "4  LP001008   Male      No  ...            1.0         Urban           Y\n",
              "\n",
              "[5 rows x 13 columns]"
            ]
          },
          "metadata": {},
          "execution_count": 4
        }
      ]
    },
    {
      "cell_type": "markdown",
      "metadata": {
        "id": "aU2xHAEvlwRD"
      },
      "source": [
        "**Membuat ringkasan mengenai statistik data**"
      ]
    },
    {
      "cell_type": "code",
      "metadata": {
        "colab": {
          "base_uri": "https://localhost:8080/",
          "height": 300
        },
        "id": "jC3PTXuuXZGX",
        "outputId": "75ab7261-ef21-4539-f417-8065dd703327"
      },
      "source": [
        "df_train.describe()"
      ],
      "execution_count": 5,
      "outputs": [
        {
          "output_type": "execute_result",
          "data": {
            "text/html": [
              "<div>\n",
              "<style scoped>\n",
              "    .dataframe tbody tr th:only-of-type {\n",
              "        vertical-align: middle;\n",
              "    }\n",
              "\n",
              "    .dataframe tbody tr th {\n",
              "        vertical-align: top;\n",
              "    }\n",
              "\n",
              "    .dataframe thead th {\n",
              "        text-align: right;\n",
              "    }\n",
              "</style>\n",
              "<table border=\"1\" class=\"dataframe\">\n",
              "  <thead>\n",
              "    <tr style=\"text-align: right;\">\n",
              "      <th></th>\n",
              "      <th>ApplicantIncome</th>\n",
              "      <th>CoapplicantIncome</th>\n",
              "      <th>LoanAmount</th>\n",
              "      <th>Loan_Amount_Term</th>\n",
              "      <th>Credit_History</th>\n",
              "    </tr>\n",
              "  </thead>\n",
              "  <tbody>\n",
              "    <tr>\n",
              "      <th>count</th>\n",
              "      <td>614.000000</td>\n",
              "      <td>614.000000</td>\n",
              "      <td>592.000000</td>\n",
              "      <td>600.00000</td>\n",
              "      <td>564.000000</td>\n",
              "    </tr>\n",
              "    <tr>\n",
              "      <th>mean</th>\n",
              "      <td>5403.459283</td>\n",
              "      <td>1621.245798</td>\n",
              "      <td>146.412162</td>\n",
              "      <td>342.00000</td>\n",
              "      <td>0.842199</td>\n",
              "    </tr>\n",
              "    <tr>\n",
              "      <th>std</th>\n",
              "      <td>6109.041673</td>\n",
              "      <td>2926.248369</td>\n",
              "      <td>85.587325</td>\n",
              "      <td>65.12041</td>\n",
              "      <td>0.364878</td>\n",
              "    </tr>\n",
              "    <tr>\n",
              "      <th>min</th>\n",
              "      <td>150.000000</td>\n",
              "      <td>0.000000</td>\n",
              "      <td>9.000000</td>\n",
              "      <td>12.00000</td>\n",
              "      <td>0.000000</td>\n",
              "    </tr>\n",
              "    <tr>\n",
              "      <th>25%</th>\n",
              "      <td>2877.500000</td>\n",
              "      <td>0.000000</td>\n",
              "      <td>100.000000</td>\n",
              "      <td>360.00000</td>\n",
              "      <td>1.000000</td>\n",
              "    </tr>\n",
              "    <tr>\n",
              "      <th>50%</th>\n",
              "      <td>3812.500000</td>\n",
              "      <td>1188.500000</td>\n",
              "      <td>128.000000</td>\n",
              "      <td>360.00000</td>\n",
              "      <td>1.000000</td>\n",
              "    </tr>\n",
              "    <tr>\n",
              "      <th>75%</th>\n",
              "      <td>5795.000000</td>\n",
              "      <td>2297.250000</td>\n",
              "      <td>168.000000</td>\n",
              "      <td>360.00000</td>\n",
              "      <td>1.000000</td>\n",
              "    </tr>\n",
              "    <tr>\n",
              "      <th>max</th>\n",
              "      <td>81000.000000</td>\n",
              "      <td>41667.000000</td>\n",
              "      <td>700.000000</td>\n",
              "      <td>480.00000</td>\n",
              "      <td>1.000000</td>\n",
              "    </tr>\n",
              "  </tbody>\n",
              "</table>\n",
              "</div>"
            ],
            "text/plain": [
              "       ApplicantIncome  CoapplicantIncome  ...  Loan_Amount_Term  Credit_History\n",
              "count       614.000000         614.000000  ...         600.00000      564.000000\n",
              "mean       5403.459283        1621.245798  ...         342.00000        0.842199\n",
              "std        6109.041673        2926.248369  ...          65.12041        0.364878\n",
              "min         150.000000           0.000000  ...          12.00000        0.000000\n",
              "25%        2877.500000           0.000000  ...         360.00000        1.000000\n",
              "50%        3812.500000        1188.500000  ...         360.00000        1.000000\n",
              "75%        5795.000000        2297.250000  ...         360.00000        1.000000\n",
              "max       81000.000000       41667.000000  ...         480.00000        1.000000\n",
              "\n",
              "[8 rows x 5 columns]"
            ]
          },
          "metadata": {},
          "execution_count": 5
        }
      ]
    },
    {
      "cell_type": "code",
      "metadata": {
        "colab": {
          "base_uri": "https://localhost:8080/"
        },
        "id": "9I96tns2XbSA",
        "outputId": "ac7f6115-2214-4de7-9521-cb7a19d32186"
      },
      "source": [
        "df_train.info()"
      ],
      "execution_count": 6,
      "outputs": [
        {
          "output_type": "stream",
          "name": "stdout",
          "text": [
            "<class 'pandas.core.frame.DataFrame'>\n",
            "RangeIndex: 614 entries, 0 to 613\n",
            "Data columns (total 13 columns):\n",
            " #   Column             Non-Null Count  Dtype  \n",
            "---  ------             --------------  -----  \n",
            " 0   Loan_ID            614 non-null    object \n",
            " 1   Gender             601 non-null    object \n",
            " 2   Married            611 non-null    object \n",
            " 3   Dependents         599 non-null    object \n",
            " 4   Education          614 non-null    object \n",
            " 5   Self_Employed      582 non-null    object \n",
            " 6   ApplicantIncome    614 non-null    int64  \n",
            " 7   CoapplicantIncome  614 non-null    float64\n",
            " 8   LoanAmount         592 non-null    float64\n",
            " 9   Loan_Amount_Term   600 non-null    float64\n",
            " 10  Credit_History     564 non-null    float64\n",
            " 11  Property_Area      614 non-null    object \n",
            " 12  Loan_Status        614 non-null    object \n",
            "dtypes: float64(4), int64(1), object(8)\n",
            "memory usage: 62.5+ KB\n"
          ]
        }
      ]
    },
    {
      "cell_type": "markdown",
      "metadata": {
        "id": "URzBYHiKl8uf"
      },
      "source": [
        "Dapat dilihat ada beberapa data yang null maka harus dilanjutkan ke step berikutnya yaitu preprocessing"
      ]
    },
    {
      "cell_type": "markdown",
      "metadata": {
        "id": "29vGDthlUPUu"
      },
      "source": [
        "# **Preprocessing Data**"
      ]
    },
    {
      "cell_type": "markdown",
      "metadata": {
        "id": "zf2DMyD-XyAw"
      },
      "source": [
        "**Mencari fitur yang ada nullnya dan nantinya harus di replace**"
      ]
    },
    {
      "cell_type": "code",
      "metadata": {
        "colab": {
          "base_uri": "https://localhost:8080/"
        },
        "id": "etJh3WjcXvc9",
        "outputId": "897f309d-dc89-4d6b-f9a9-56f9ee0c8a2f"
      },
      "source": [
        "df_train.isnull().sum()"
      ],
      "execution_count": 7,
      "outputs": [
        {
          "output_type": "execute_result",
          "data": {
            "text/plain": [
              "Loan_ID               0\n",
              "Gender               13\n",
              "Married               3\n",
              "Dependents           15\n",
              "Education             0\n",
              "Self_Employed        32\n",
              "ApplicantIncome       0\n",
              "CoapplicantIncome     0\n",
              "LoanAmount           22\n",
              "Loan_Amount_Term     14\n",
              "Credit_History       50\n",
              "Property_Area         0\n",
              "Loan_Status           0\n",
              "dtype: int64"
            ]
          },
          "metadata": {},
          "execution_count": 7
        }
      ]
    },
    {
      "cell_type": "markdown",
      "metadata": {
        "id": "gOVWz2ZxMjIc"
      },
      "source": [
        "**ID tidak diperlukan sehingga boleh dihapus**"
      ]
    },
    {
      "cell_type": "code",
      "metadata": {
        "id": "H7eMuzIsMiXi"
      },
      "source": [
        "df_train = df_train.iloc[:,1:]"
      ],
      "execution_count": 8,
      "outputs": []
    },
    {
      "cell_type": "markdown",
      "metadata": {
        "id": "3Up5noSUlWnL"
      },
      "source": [
        "**Mencoba untuk preview data teratas**"
      ]
    },
    {
      "cell_type": "code",
      "metadata": {
        "colab": {
          "base_uri": "https://localhost:8080/",
          "height": 206
        },
        "id": "cx_SdhDUMudi",
        "outputId": "c5cc0824-a858-46d1-f942-2e033ccb4453"
      },
      "source": [
        "df_train.head()"
      ],
      "execution_count": 9,
      "outputs": [
        {
          "output_type": "execute_result",
          "data": {
            "text/html": [
              "<div>\n",
              "<style scoped>\n",
              "    .dataframe tbody tr th:only-of-type {\n",
              "        vertical-align: middle;\n",
              "    }\n",
              "\n",
              "    .dataframe tbody tr th {\n",
              "        vertical-align: top;\n",
              "    }\n",
              "\n",
              "    .dataframe thead th {\n",
              "        text-align: right;\n",
              "    }\n",
              "</style>\n",
              "<table border=\"1\" class=\"dataframe\">\n",
              "  <thead>\n",
              "    <tr style=\"text-align: right;\">\n",
              "      <th></th>\n",
              "      <th>Gender</th>\n",
              "      <th>Married</th>\n",
              "      <th>Dependents</th>\n",
              "      <th>Education</th>\n",
              "      <th>Self_Employed</th>\n",
              "      <th>ApplicantIncome</th>\n",
              "      <th>CoapplicantIncome</th>\n",
              "      <th>LoanAmount</th>\n",
              "      <th>Loan_Amount_Term</th>\n",
              "      <th>Credit_History</th>\n",
              "      <th>Property_Area</th>\n",
              "      <th>Loan_Status</th>\n",
              "    </tr>\n",
              "  </thead>\n",
              "  <tbody>\n",
              "    <tr>\n",
              "      <th>0</th>\n",
              "      <td>Male</td>\n",
              "      <td>No</td>\n",
              "      <td>0</td>\n",
              "      <td>Graduate</td>\n",
              "      <td>No</td>\n",
              "      <td>5849</td>\n",
              "      <td>0.0</td>\n",
              "      <td>NaN</td>\n",
              "      <td>360.0</td>\n",
              "      <td>1.0</td>\n",
              "      <td>Urban</td>\n",
              "      <td>Y</td>\n",
              "    </tr>\n",
              "    <tr>\n",
              "      <th>1</th>\n",
              "      <td>Male</td>\n",
              "      <td>Yes</td>\n",
              "      <td>1</td>\n",
              "      <td>Graduate</td>\n",
              "      <td>No</td>\n",
              "      <td>4583</td>\n",
              "      <td>1508.0</td>\n",
              "      <td>128.0</td>\n",
              "      <td>360.0</td>\n",
              "      <td>1.0</td>\n",
              "      <td>Rural</td>\n",
              "      <td>N</td>\n",
              "    </tr>\n",
              "    <tr>\n",
              "      <th>2</th>\n",
              "      <td>Male</td>\n",
              "      <td>Yes</td>\n",
              "      <td>0</td>\n",
              "      <td>Graduate</td>\n",
              "      <td>Yes</td>\n",
              "      <td>3000</td>\n",
              "      <td>0.0</td>\n",
              "      <td>66.0</td>\n",
              "      <td>360.0</td>\n",
              "      <td>1.0</td>\n",
              "      <td>Urban</td>\n",
              "      <td>Y</td>\n",
              "    </tr>\n",
              "    <tr>\n",
              "      <th>3</th>\n",
              "      <td>Male</td>\n",
              "      <td>Yes</td>\n",
              "      <td>0</td>\n",
              "      <td>Not Graduate</td>\n",
              "      <td>No</td>\n",
              "      <td>2583</td>\n",
              "      <td>2358.0</td>\n",
              "      <td>120.0</td>\n",
              "      <td>360.0</td>\n",
              "      <td>1.0</td>\n",
              "      <td>Urban</td>\n",
              "      <td>Y</td>\n",
              "    </tr>\n",
              "    <tr>\n",
              "      <th>4</th>\n",
              "      <td>Male</td>\n",
              "      <td>No</td>\n",
              "      <td>0</td>\n",
              "      <td>Graduate</td>\n",
              "      <td>No</td>\n",
              "      <td>6000</td>\n",
              "      <td>0.0</td>\n",
              "      <td>141.0</td>\n",
              "      <td>360.0</td>\n",
              "      <td>1.0</td>\n",
              "      <td>Urban</td>\n",
              "      <td>Y</td>\n",
              "    </tr>\n",
              "  </tbody>\n",
              "</table>\n",
              "</div>"
            ],
            "text/plain": [
              "  Gender Married Dependents  ... Credit_History Property_Area  Loan_Status\n",
              "0   Male      No          0  ...            1.0         Urban            Y\n",
              "1   Male     Yes          1  ...            1.0         Rural            N\n",
              "2   Male     Yes          0  ...            1.0         Urban            Y\n",
              "3   Male     Yes          0  ...            1.0         Urban            Y\n",
              "4   Male      No          0  ...            1.0         Urban            Y\n",
              "\n",
              "[5 rows x 12 columns]"
            ]
          },
          "metadata": {},
          "execution_count": 9
        }
      ]
    },
    {
      "cell_type": "markdown",
      "metadata": {
        "id": "8_vCMAMglQ_e"
      },
      "source": [
        "**Melakukan pengecekan berapa banyak null pada data**"
      ]
    },
    {
      "cell_type": "code",
      "metadata": {
        "colab": {
          "base_uri": "https://localhost:8080/"
        },
        "id": "BqmZa7ABgNrz",
        "outputId": "ace5342f-270c-43c8-e2b8-729369c9729d"
      },
      "source": [
        "df_train.isnull().sum()"
      ],
      "execution_count": 10,
      "outputs": [
        {
          "output_type": "execute_result",
          "data": {
            "text/plain": [
              "Gender               13\n",
              "Married               3\n",
              "Dependents           15\n",
              "Education             0\n",
              "Self_Employed        32\n",
              "ApplicantIncome       0\n",
              "CoapplicantIncome     0\n",
              "LoanAmount           22\n",
              "Loan_Amount_Term     14\n",
              "Credit_History       50\n",
              "Property_Area         0\n",
              "Loan_Status           0\n",
              "dtype: int64"
            ]
          },
          "metadata": {},
          "execution_count": 10
        }
      ]
    },
    {
      "cell_type": "markdown",
      "metadata": {
        "id": "EIFSxE6vgiTi"
      },
      "source": [
        "Dari hasil diatas dapat terlihat di Gender, Married, Dependents, Self_Employed, LoanAmount, Loan_Amount_Term, dan Credit_History ada value null oleh karena itu perlu dilakukan pengisian/penghapusan data-data tersebut. Disini saya memilih untuk mengisinya saja."
      ]
    },
    {
      "cell_type": "markdown",
      "metadata": {
        "id": "qu5Cj8iNX7B_"
      },
      "source": [
        "**Pengisisan Data Numerik menggunakan Mean untuk data yang sifatnya numerikal**"
      ]
    },
    {
      "cell_type": "code",
      "metadata": {
        "id": "R7SLyO9SX9-E"
      },
      "source": [
        "meanLA = df_train['LoanAmount'].mean()\n",
        "meanLAT = df_train['Loan_Amount_Term'].mean()\n",
        "modeCH = df_train['Credit_History'].mode()[0]\n",
        "\n",
        "df_train['LoanAmount'] = df_train['LoanAmount'].fillna(meanLA) \n",
        "df_train['Loan_Amount_Term'] = df_train['Loan_Amount_Term'].fillna(meanLAT) \n",
        "#untuk CreditHistory karena artinya hanya 2 yang pernah dan belum maka lebih baik menggunakan modus\n",
        "df_train['Credit_History'] = df_train['Credit_History'].fillna(modeCH) "
      ],
      "execution_count": 11,
      "outputs": []
    },
    {
      "cell_type": "markdown",
      "metadata": {
        "id": "g3k0EF49jje-"
      },
      "source": [
        "**Pengisian Data Kategorikal menggunakan modus untuk data yang sifatnya kategorikal**"
      ]
    },
    {
      "cell_type": "code",
      "metadata": {
        "id": "XBW8u2y7jmjJ"
      },
      "source": [
        "modG = df_train['Gender'].mode()[0]\n",
        "modM = df_train['Married'].mode()[0]\n",
        "modD = df_train['Dependents'].mode()[0]\n",
        "modSE = df_train['Self_Employed'].mode()[0]\n",
        "\n",
        "df_train['Gender'] = df_train['Gender'].fillna(modG) \n",
        "df_train['Married'] = df_train['Married'].fillna(modM) \n",
        "df_train['Dependents'] = df_train['Dependents'].fillna(modD) \n",
        "df_train['Self_Employed'] = df_train['Self_Employed'].fillna(modSE) "
      ],
      "execution_count": 12,
      "outputs": []
    },
    {
      "cell_type": "markdown",
      "metadata": {
        "id": "VjSdzvroZPS4"
      },
      "source": [
        "**Mengecek kembali apakah datanya sudah berubah**"
      ]
    },
    {
      "cell_type": "code",
      "metadata": {
        "colab": {
          "base_uri": "https://localhost:8080/"
        },
        "id": "5wlqXT7kZMrQ",
        "outputId": "4365b34b-8c4f-47b4-81fc-5eb31d5098bc"
      },
      "source": [
        "df_train.isnull().sum()"
      ],
      "execution_count": 13,
      "outputs": [
        {
          "output_type": "execute_result",
          "data": {
            "text/plain": [
              "Gender               0\n",
              "Married              0\n",
              "Dependents           0\n",
              "Education            0\n",
              "Self_Employed        0\n",
              "ApplicantIncome      0\n",
              "CoapplicantIncome    0\n",
              "LoanAmount           0\n",
              "Loan_Amount_Term     0\n",
              "Credit_History       0\n",
              "Property_Area        0\n",
              "Loan_Status          0\n",
              "dtype: int64"
            ]
          },
          "metadata": {},
          "execution_count": 13
        }
      ]
    },
    {
      "cell_type": "markdown",
      "metadata": {
        "id": "1MjpSlL1ZVyV"
      },
      "source": [
        "# **Exploratory Data Analsis**"
      ]
    },
    {
      "cell_type": "markdown",
      "metadata": {
        "id": "KFaT15l7n_Yj"
      },
      "source": [
        "**Visualisasi Atribut Kategorikal**"
      ]
    },
    {
      "cell_type": "code",
      "metadata": {
        "colab": {
          "base_uri": "https://localhost:8080/",
          "height": 279
        },
        "id": "D1u9pp3AZY5s",
        "outputId": "1ab3f989-0a13-444b-c7b9-cb9e391a2752"
      },
      "source": [
        "sns.countplot(x = df_train['Gender'])\n",
        "plt.show()"
      ],
      "execution_count": 14,
      "outputs": [
        {
          "output_type": "display_data",
          "data": {
            "image/png": "[encoded data removed]",
            "text/plain": [
              "<Figure size 432x288 with 1 Axes>"
            ]
          },
          "metadata": {
            "needs_background": "light"
          }
        }
      ]
    },
    {
      "cell_type": "markdown",
      "metadata": {
        "id": "iK-RRkwfnGtY"
      },
      "source": [
        "Lebih banyak yang male"
      ]
    },
    {
      "cell_type": "code",
      "metadata": {
        "colab": {
          "base_uri": "https://localhost:8080/",
          "height": 279
        },
        "id": "juWGZ_AAZjW3",
        "outputId": "734eead0-b4b3-43fb-93a3-bbb0fe53f836"
      },
      "source": [
        "sns.countplot(x = df_train['Married'])\n",
        "plt.show()"
      ],
      "execution_count": 15,
      "outputs": [
        {
          "output_type": "display_data",
          "data": {
            "image/png": "[encoded data removed]",
            "text/plain": [
              "<Figure size 432x288 with 1 Axes>"
            ]
          },
          "metadata": {
            "needs_background": "light"
          }
        }
      ]
    },
    {
      "cell_type": "markdown",
      "metadata": {
        "id": "L-eb8vVinJQJ"
      },
      "source": [
        "Banyak yang sudah married"
      ]
    },
    {
      "cell_type": "code",
      "metadata": {
        "colab": {
          "base_uri": "https://localhost:8080/",
          "height": 279
        },
        "id": "hc0l4YqJZvfp",
        "outputId": "37806408-235c-44a2-d5f0-5a763473e31c"
      },
      "source": [
        "sns.countplot(x = df_train['Dependents'])\n",
        "plt.show()"
      ],
      "execution_count": 16,
      "outputs": [
        {
          "output_type": "display_data",
          "data": {
            "image/png": "[encoded data removed]",
            "text/plain": [
              "<Figure size 432x288 with 1 Axes>"
            ]
          },
          "metadata": {
            "needs_background": "light"
          }
        }
      ]
    },
    {
      "cell_type": "markdown",
      "metadata": {
        "id": "iPT6alQOnXF0"
      },
      "source": [
        "Lebih banyak yang tidak mempunyai dependents"
      ]
    },
    {
      "cell_type": "code",
      "metadata": {
        "colab": {
          "base_uri": "https://localhost:8080/",
          "height": 282
        },
        "id": "ehp_361YZym9",
        "outputId": "30b2616c-77f3-4778-91be-5bf1fb7745ed"
      },
      "source": [
        "sns.countplot(x = df_train['Education'])\n",
        "plt.show()"
      ],
      "execution_count": 17,
      "outputs": [
        {
          "output_type": "display_data",
          "data": {
            "image/png": "[encoded data removed]",
            "text/plain": [
              "<Figure size 432x288 with 1 Axes>"
            ]
          },
          "metadata": {
            "needs_background": "light"
          }
        }
      ]
    },
    {
      "cell_type": "markdown",
      "metadata": {
        "id": "97jp7jKxneW3"
      },
      "source": [
        "Lebih banyak yang graduate"
      ]
    },
    {
      "cell_type": "code",
      "metadata": {
        "colab": {
          "base_uri": "https://localhost:8080/",
          "height": 280
        },
        "id": "-VwkvB0aZzBG",
        "outputId": "f1f1800b-9fb9-4edf-de4a-be936c38e5fa"
      },
      "source": [
        "sns.countplot(x = df_train['Self_Employed'])\n",
        "plt.show()"
      ],
      "execution_count": 18,
      "outputs": [
        {
          "output_type": "display_data",
          "data": {
            "image/png": "[encoded data removed]",
            "text/plain": [
              "<Figure size 432x288 with 1 Axes>"
            ]
          },
          "metadata": {
            "needs_background": "light"
          }
        }
      ]
    },
    {
      "cell_type": "markdown",
      "metadata": {
        "id": "hv_jtxeVng0p"
      },
      "source": [
        "Lebih banyak yang bekerja dibandingkan dengan bisnis sendiri"
      ]
    },
    {
      "cell_type": "code",
      "metadata": {
        "colab": {
          "base_uri": "https://localhost:8080/",
          "height": 280
        },
        "id": "NKNIDiqgk9_B",
        "outputId": "6ba4e490-099e-452e-de22-7e45207e77c5"
      },
      "source": [
        "sns.countplot(x = df_train['Property_Area'])\n",
        "plt.show()"
      ],
      "execution_count": 19,
      "outputs": [
        {
          "output_type": "display_data",
          "data": {
            "image/png": "[encoded data removed]",
            "text/plain": [
              "<Figure size 432x288 with 1 Axes>"
            ]
          },
          "metadata": {
            "needs_background": "light"
          }
        }
      ]
    },
    {
      "cell_type": "markdown",
      "metadata": {
        "id": "lDuasuUFnqcP"
      },
      "source": [
        "Hampir sama rata namun lebih banyak yang di semiurban"
      ]
    },
    {
      "cell_type": "code",
      "metadata": {
        "colab": {
          "base_uri": "https://localhost:8080/",
          "height": 280
        },
        "id": "uzeinVXak-X4",
        "outputId": "96e391c8-335a-4080-b6f8-e22fde7ab50c"
      },
      "source": [
        "sns.countplot(x = df_train['Loan_Status'])\n",
        "plt.show()"
      ],
      "execution_count": 20,
      "outputs": [
        {
          "output_type": "display_data",
          "data": {
            "image/png": "[encoded data removed]",
            "text/plain": [
              "<Figure size 432x288 with 1 Axes>"
            ]
          },
          "metadata": {
            "needs_background": "light"
          }
        }
      ]
    },
    {
      "cell_type": "markdown",
      "metadata": {
        "id": "b7uIHu-1nuVu"
      },
      "source": [
        "Kebanyakan permintaan loannya itu diapprove"
      ]
    },
    {
      "cell_type": "markdown",
      "metadata": {
        "id": "DqRHo_Hv34xK"
      },
      "source": [
        "**Mencoba untuk visualisasi kategorikal digabung dengan status loannya**"
      ]
    },
    {
      "cell_type": "code",
      "metadata": {
        "id": "NF7pFm5m5s4v"
      },
      "source": [
        "df_train['Loan_Status'].replace('N',0,inplace=True)\n",
        "df_train['Loan_Status'].replace('Y',1,inplace=True)"
      ],
      "execution_count": 21,
      "outputs": []
    },
    {
      "cell_type": "code",
      "metadata": {
        "colab": {
          "base_uri": "https://localhost:8080/",
          "height": 334
        },
        "id": "aQQVsfHGznbN",
        "outputId": "05af3230-645e-41ba-8c02-4dce888bbdb2"
      },
      "source": [
        "plt.figure(figsize=(10,5))\n",
        "sns.countplot(x='Gender', hue='Loan_Status', data=df_train);"
      ],
      "execution_count": 22,
      "outputs": [
        {
          "output_type": "display_data",
          "data": {
            "image/png": "[encoded data removed]",
            "text/plain": [
              "<Figure size 720x360 with 1 Axes>"
            ]
          },
          "metadata": {
            "needs_background": "light"
          }
        }
      ]
    },
    {
      "cell_type": "markdown",
      "metadata": {
        "id": "0_QaIUdoz4du"
      },
      "source": [
        "Dari sana dapat terlihat bahwa yang lebih cenderung mendapatkan loan adalah male"
      ]
    },
    {
      "cell_type": "code",
      "metadata": {
        "colab": {
          "base_uri": "https://localhost:8080/",
          "height": 336
        },
        "id": "-842UUey1ioR",
        "outputId": "278a0e5a-51a1-4dac-c25d-18c6c3490ab1"
      },
      "source": [
        "plt.figure(figsize=(10,5))\n",
        "sns.countplot(x='Married', hue='Loan_Status', data=df_train);"
      ],
      "execution_count": 23,
      "outputs": [
        {
          "output_type": "display_data",
          "data": {
            "image/png": "[encoded data removed]",
            "text/plain": [
              "<Figure size 720x360 with 1 Axes>"
            ]
          },
          "metadata": {
            "needs_background": "light"
          }
        }
      ]
    },
    {
      "cell_type": "markdown",
      "metadata": {
        "id": "zt9C7zIY2E3O"
      },
      "source": [
        "Dari sana dapat terlihat bahwa orang yang sudah menikah memiliki kecenderungan mendapatkan loan "
      ]
    },
    {
      "cell_type": "code",
      "metadata": {
        "colab": {
          "base_uri": "https://localhost:8080/",
          "height": 334
        },
        "id": "4FukeNUJ2ELM",
        "outputId": "bda59e07-c58a-466d-efc9-3a4e513c9086"
      },
      "source": [
        "plt.figure(figsize=(10,5))\n",
        "sns.countplot(x='Dependents', hue='Loan_Status', data=df_train);"
      ],
      "execution_count": 24,
      "outputs": [
        {
          "output_type": "display_data",
          "data": {
            "image/png": "[encoded data removed]",
            "text/plain": [
              "<Figure size 720x360 with 1 Axes>"
            ]
          },
          "metadata": {
            "needs_background": "light"
          }
        }
      ]
    },
    {
      "cell_type": "markdown",
      "metadata": {
        "id": "NFgnJlEI4Sic"
      },
      "source": [
        "Dari sana dapat tidak konsisten karena yang dependentnya 1 dan 2, 2 lebih tinggi dari 1 padahal pada 0 dia itu lebih tinggi lagi jadi tidak dapat diambil kesimpulan"
      ]
    },
    {
      "cell_type": "code",
      "metadata": {
        "colab": {
          "base_uri": "https://localhost:8080/",
          "height": 334
        },
        "id": "1wS6DuO02kwr",
        "outputId": "ea5efbe6-b4be-43e3-d0cd-b3e3f4b88446"
      },
      "source": [
        "plt.figure(figsize=(10,5))\n",
        "sns.countplot(x='Education', hue='Loan_Status', data=df_train);"
      ],
      "execution_count": 25,
      "outputs": [
        {
          "output_type": "display_data",
          "data": {
            "image/png": "[encoded data removed]",
            "text/plain": [
              "<Figure size 720x360 with 1 Axes>"
            ]
          },
          "metadata": {
            "needs_background": "light"
          }
        }
      ]
    },
    {
      "cell_type": "markdown",
      "metadata": {
        "id": "SSIZ1Vki2uiT"
      },
      "source": [
        "Dari sana dapat terlihat bahwa orang yang sudah graduate memiliki kecenderungan mendapatkan loan "
      ]
    },
    {
      "cell_type": "code",
      "metadata": {
        "colab": {
          "base_uri": "https://localhost:8080/",
          "height": 335
        },
        "id": "fun4KQQA2rZm",
        "outputId": "0298d492-e19b-483a-d8fd-874aaecaec63"
      },
      "source": [
        "plt.figure(figsize=(10,5))\n",
        "sns.countplot(x='Self_Employed', hue='Loan_Status', data=df_train)\n",
        "plt.show()"
      ],
      "execution_count": 26,
      "outputs": [
        {
          "output_type": "display_data",
          "data": {
            "image/png": "[encoded data removed]",
            "text/plain": [
              "<Figure size 720x360 with 1 Axes>"
            ]
          },
          "metadata": {
            "needs_background": "light"
          }
        }
      ]
    },
    {
      "cell_type": "markdown",
      "metadata": {
        "id": "w1AylkJw293t"
      },
      "source": [
        "Dari sana dapat terlihat bahwa orang yang sudah punya bukan bekerja sendiri memiliki kecenderungan mendapatkan loan "
      ]
    },
    {
      "cell_type": "code",
      "metadata": {
        "colab": {
          "base_uri": "https://localhost:8080/",
          "height": 335
        },
        "id": "qiaOUig46s3Q",
        "outputId": "25ef0788-263b-421e-fd25-b7e747c1a951"
      },
      "source": [
        "plt.figure(figsize=(10,5))\n",
        "sns.countplot(x='Credit_History', hue='Loan_Status', data=df_train)\n",
        "plt.show()"
      ],
      "execution_count": 27,
      "outputs": [
        {
          "output_type": "display_data",
          "data": {
            "image/png": "[encoded data removed]",
            "text/plain": [
              "<Figure size 720x360 with 1 Axes>"
            ]
          },
          "metadata": {
            "needs_background": "light"
          }
        }
      ]
    },
    {
      "cell_type": "markdown",
      "metadata": {
        "id": "qGRx0Y9y68AI"
      },
      "source": [
        "Dari sana dapat terlihat bahwa orang yang sudah punya sudah memiliki history pinjam kecenderungan mendapatkan loan "
      ]
    },
    {
      "cell_type": "code",
      "metadata": {
        "colab": {
          "base_uri": "https://localhost:8080/",
          "height": 335
        },
        "id": "sLJ_J-Lc7aQy",
        "outputId": "8ec3b101-bcc3-4104-c63e-4351ce26c958"
      },
      "source": [
        "plt.figure(figsize=(10,5))\n",
        "sns.countplot(x='Property_Area', hue='Loan_Status', data=df_train)\n",
        "plt.show()"
      ],
      "execution_count": 28,
      "outputs": [
        {
          "output_type": "display_data",
          "data": {
            "image/png": "[encoded data removed]",
            "text/plain": [
              "<Figure size 720x360 with 1 Axes>"
            ]
          },
          "metadata": {
            "needs_background": "light"
          }
        }
      ]
    },
    {
      "cell_type": "markdown",
      "metadata": {
        "id": "gwu6jqso7kzM"
      },
      "source": [
        "Dari sana dapat terlihat bahwa orang yang tinggal di semi urban lebih tinggi kecenderungan mendapatkan loan "
      ]
    },
    {
      "cell_type": "markdown",
      "metadata": {
        "id": "8UIKW3JuoHA3"
      },
      "source": [
        "**Visualisasi Atribut Numerikal**"
      ]
    },
    {
      "cell_type": "code",
      "metadata": {
        "colab": {
          "base_uri": "https://localhost:8080/",
          "height": 265
        },
        "id": "h3V8UDqipQ2T",
        "outputId": "87b4754e-cd14-434c-d400-6dc3cad5999f"
      },
      "source": [
        "sns.distplot(x = df_train['ApplicantIncome'])\n",
        "plt.show()"
      ],
      "execution_count": 29,
      "outputs": [
        {
          "output_type": "display_data",
          "data": {
            "image/png": "[encoded data removed]",
            "text/plain": [
              "<Figure size 432x288 with 1 Axes>"
            ]
          },
          "metadata": {
            "needs_background": "light"
          }
        }
      ]
    },
    {
      "cell_type": "markdown",
      "metadata": {
        "id": "jwFO9Lq0pgiu"
      },
      "source": [
        "Distribusinya untuk ApplicantIncome left skewed, diperlukan normalisasi"
      ]
    },
    {
      "cell_type": "code",
      "metadata": {
        "colab": {
          "base_uri": "https://localhost:8080/",
          "height": 265
        },
        "id": "t1YGUSeoqGgW",
        "outputId": "500e7c9b-83cd-4700-e018-c5bfe9ae2de9"
      },
      "source": [
        "sns.distplot(x = df_train['CoapplicantIncome'])\n",
        "plt.show()"
      ],
      "execution_count": 30,
      "outputs": [
        {
          "output_type": "display_data",
          "data": {
            "image/png": "[encoded data removed]",
            "text/plain": [
              "<Figure size 432x288 with 1 Axes>"
            ]
          },
          "metadata": {
            "needs_background": "light"
          }
        }
      ]
    },
    {
      "cell_type": "markdown",
      "metadata": {
        "id": "6gfLgMO3qK4k"
      },
      "source": [
        "Distribusinya untuk CoapplicantIncome left skewed, diperlukan normalisasi"
      ]
    },
    {
      "cell_type": "code",
      "metadata": {
        "colab": {
          "base_uri": "https://localhost:8080/",
          "height": 269
        },
        "id": "3Ku0xd8zqqb0",
        "outputId": "6706d060-0696-4a59-8617-35a6c2504a2a"
      },
      "source": [
        "sns.distplot(x = df_train['LoanAmount'])\n",
        "plt.show()"
      ],
      "execution_count": 31,
      "outputs": [
        {
          "output_type": "display_data",
          "data": {
            "image/png": "[encoded data removed]",
            "text/plain": [
              "<Figure size 432x288 with 1 Axes>"
            ]
          },
          "metadata": {
            "needs_background": "light"
          }
        }
      ]
    },
    {
      "cell_type": "markdown",
      "metadata": {
        "id": "OB24tejvqqb3"
      },
      "source": [
        "Distribusinya untuk LoanAmount left skewed, diperlukan normalisasi"
      ]
    },
    {
      "cell_type": "code",
      "metadata": {
        "colab": {
          "base_uri": "https://localhost:8080/",
          "height": 265
        },
        "id": "MDpQ81FaqqwA",
        "outputId": "ac25407d-db7b-440f-f6bf-dc37f5cd1454"
      },
      "source": [
        "sns.distplot(x = df_train['Loan_Amount_Term'])\n",
        "plt.show()"
      ],
      "execution_count": 32,
      "outputs": [
        {
          "output_type": "display_data",
          "data": {
            "image/png": "[encoded data removed]",
            "text/plain": [
              "<Figure size 432x288 with 1 Axes>"
            ]
          },
          "metadata": {
            "needs_background": "light"
          }
        }
      ]
    },
    {
      "cell_type": "markdown",
      "metadata": {
        "id": "nDWcaSKeuJy6"
      },
      "source": [
        "Distribusinya untuk Loan Amount Term juga masih skewed, diperlukan normalisasi"
      ]
    },
    {
      "cell_type": "code",
      "metadata": {
        "id": "kaWXrxsYzlsh"
      },
      "source": [
        "df_train['TotalIncome'] = df_train['ApplicantIncome'] + df_train['CoapplicantIncome']"
      ],
      "execution_count": 33,
      "outputs": []
    },
    {
      "cell_type": "code",
      "metadata": {
        "colab": {
          "base_uri": "https://localhost:8080/",
          "height": 265
        },
        "id": "LqwdMrfnz7Ge",
        "outputId": "3392a8de-f0f8-454c-e7f9-216b667774c2"
      },
      "source": [
        "sns.distplot(x = df_train['TotalIncome'])\n",
        "plt.show()"
      ],
      "execution_count": 34,
      "outputs": [
        {
          "output_type": "display_data",
          "data": {
            "image/png": "[encoded data removed]",
            "text/plain": [
              "<Figure size 432x288 with 1 Axes>"
            ]
          },
          "metadata": {
            "needs_background": "light"
          }
        }
      ]
    },
    {
      "cell_type": "markdown",
      "metadata": {
        "id": "jC2YsanK0B4o"
      },
      "source": [
        "Distribusinya walaupun sudah dijumlahkan incomenya masih dia diperlukan normalisasi"
      ]
    },
    {
      "cell_type": "markdown",
      "metadata": {
        "id": "DyFSEBtYrsJn"
      },
      "source": [
        "# **Normalisasi data numerik dengan menggunakan log transformation**"
      ]
    },
    {
      "cell_type": "code",
      "metadata": {
        "id": "kBuls-6JruqU"
      },
      "source": [
        "df_train['ApplicantIncome'] = np.log(df_train['ApplicantIncome']+1)"
      ],
      "execution_count": 35,
      "outputs": []
    },
    {
      "cell_type": "code",
      "metadata": {
        "colab": {
          "base_uri": "https://localhost:8080/",
          "height": 265
        },
        "id": "C-e8_tiNr7Gc",
        "outputId": "182ffb3b-1b70-4686-e635-2d5f8ac5dc78"
      },
      "source": [
        "sns.distplot(x = df_train['ApplicantIncome'])\n",
        "plt.show()"
      ],
      "execution_count": 36,
      "outputs": [
        {
          "output_type": "display_data",
          "data": {
            "image/png": "[encoded data removed]",
            "text/plain": [
              "<Figure size 432x288 with 1 Axes>"
            ]
          },
          "metadata": {
            "needs_background": "light"
          }
        }
      ]
    },
    {
      "cell_type": "code",
      "metadata": {
        "id": "NB0t7O2YsnV7"
      },
      "source": [
        "df_train['CoapplicantIncome'] = np.log(df_train['CoapplicantIncome']+1)"
      ],
      "execution_count": 37,
      "outputs": []
    },
    {
      "cell_type": "code",
      "metadata": {
        "colab": {
          "base_uri": "https://localhost:8080/",
          "height": 265
        },
        "id": "q0MdaI9_snV7",
        "outputId": "230ff4b8-58c5-44d9-9eaa-0b3f6d8871d4"
      },
      "source": [
        "sns.distplot(x = df_train['CoapplicantIncome'])\n",
        "plt.show()"
      ],
      "execution_count": 38,
      "outputs": [
        {
          "output_type": "display_data",
          "data": {
            "image/png": "[encoded data removed]",
            "text/plain": [
              "<Figure size 432x288 with 1 Axes>"
            ]
          },
          "metadata": {
            "needs_background": "light"
          }
        }
      ]
    },
    {
      "cell_type": "code",
      "metadata": {
        "id": "vx5CrtwMxAY6"
      },
      "source": [
        "df_train['LoanAmount'] = np.log(df_train['LoanAmount']+1)"
      ],
      "execution_count": 39,
      "outputs": []
    },
    {
      "cell_type": "code",
      "metadata": {
        "colab": {
          "base_uri": "https://localhost:8080/",
          "height": 265
        },
        "id": "3BhtI7ikxA78",
        "outputId": "4aebcf6b-dfa0-4118-8178-567cbeec37bb"
      },
      "source": [
        "sns.distplot(x = df_train['LoanAmount'])\n",
        "plt.show()"
      ],
      "execution_count": 40,
      "outputs": [
        {
          "output_type": "display_data",
          "data": {
            "image/png": "[encoded data removed]",
            "text/plain": [
              "<Figure size 432x288 with 1 Axes>"
            ]
          },
          "metadata": {
            "needs_background": "light"
          }
        }
      ]
    },
    {
      "cell_type": "code",
      "metadata": {
        "id": "B6bEknWrx8JK"
      },
      "source": [
        "df_train['Loan_Amount_Term'] = np.log(df_train['Loan_Amount_Term']+1)"
      ],
      "execution_count": 41,
      "outputs": []
    },
    {
      "cell_type": "code",
      "metadata": {
        "colab": {
          "base_uri": "https://localhost:8080/",
          "height": 265
        },
        "id": "ZeDoN2Q-x8JL",
        "outputId": "67db67bd-a575-40cc-f30e-c86feadafab9"
      },
      "source": [
        "sns.distplot(x = df_train['Loan_Amount_Term'])\n",
        "plt.show()"
      ],
      "execution_count": 42,
      "outputs": [
        {
          "output_type": "display_data",
          "data": {
            "image/png": "[encoded data removed]",
            "text/plain": [
              "<Figure size 432x288 with 1 Axes>"
            ]
          },
          "metadata": {
            "needs_background": "light"
          }
        }
      ]
    },
    {
      "cell_type": "code",
      "metadata": {
        "id": "-xJbduR4zP11"
      },
      "source": [
        "df_train['TotalIncome'] = np.log(df_train['TotalIncome']+1)"
      ],
      "execution_count": 43,
      "outputs": []
    },
    {
      "cell_type": "code",
      "metadata": {
        "colab": {
          "base_uri": "https://localhost:8080/",
          "height": 265
        },
        "id": "zLloEFi-0S8H",
        "outputId": "602873b8-8728-4355-a06d-8d375a9fb123"
      },
      "source": [
        "sns.distplot(x = df_train['TotalIncome'])\n",
        "plt.show()"
      ],
      "execution_count": 44,
      "outputs": [
        {
          "output_type": "display_data",
          "data": {
            "image/png": "[encoded data removed]",
            "text/plain": [
              "<Figure size 432x288 with 1 Axes>"
            ]
          },
          "metadata": {
            "needs_background": "light"
          }
        }
      ]
    },
    {
      "cell_type": "markdown",
      "metadata": {
        "id": "4WWeQ6EW16TS"
      },
      "source": [
        "**Label Encoding**"
      ]
    },
    {
      "cell_type": "code",
      "metadata": {
        "id": "tRNXCGPIIraW"
      },
      "source": [
        "category_column = []\n",
        "numerical_column = []\n",
        "\n",
        "for i in df_train.columns:\n",
        "    if df_train[i].dtype not in ['int64', 'float64']:\n",
        "        category_column.append(i)\n",
        "    else:\n",
        "      numerical_column.append(i)"
      ],
      "execution_count": 45,
      "outputs": []
    },
    {
      "cell_type": "code",
      "metadata": {
        "id": "txBrjITt2OnZ"
      },
      "source": [
        "for j in category_column:\n",
        "    df_train[j] = LabelEncoder().fit_transform(df_train[j])"
      ],
      "execution_count": 46,
      "outputs": []
    },
    {
      "cell_type": "markdown",
      "metadata": {
        "id": "p2WaK-sb1Tzf"
      },
      "source": [
        "**Correlation Matrix**"
      ]
    },
    {
      "cell_type": "code",
      "metadata": {
        "colab": {
          "base_uri": "https://localhost:8080/",
          "height": 695
        },
        "id": "jYonYFkZ1VvK",
        "outputId": "651e3d56-c26e-458b-f08a-0e831059cbb1"
      },
      "source": [
        "cm = df_train.corr()\n",
        "plt.figure(figsize=(12,10))\n",
        "sns.heatmap(cm, \n",
        "         xticklabels=cm.columns, \n",
        "         yticklabels=cm.columns, annot = True).set_title('Correlation')\n",
        "plt.show()"
      ],
      "execution_count": 47,
      "outputs": [
        {
          "output_type": "display_data",
          "data": {
            "image/png": "[encoded data removed]",
            "text/plain": [
              "<Figure size 864x720 with 2 Axes>"
            ]
          },
          "metadata": {
            "needs_background": "light"
          }
        }
      ]
    },
    {
      "cell_type": "markdown",
      "metadata": {
        "id": "N7OuNGJIEi1f"
      },
      "source": [
        "Dari Correlation Matrix ditemukan bahwa yang berasal dari fitur numerik hanya ada ApplicantIncome, CoaaplicantIncome, dan TotalIncome yang positif Sedangkan untuk yang fitur kategorikal itu ada Gender, Married, Dependents, Credit History, dan Property_Area"
      ]
    },
    {
      "cell_type": "markdown",
      "metadata": {
        "id": "uUjSwDUa6yFv"
      },
      "source": [
        "# **Feature Selection**"
      ]
    },
    {
      "cell_type": "markdown",
      "metadata": {
        "id": "_vZFcE8N5vlP"
      },
      "source": [
        "Feature Selection menggunakan yang 7 terbaik dari Correlation Matrix\n",
        "1. Credit_History\n",
        "2. Married\n",
        "3. CoappliantIncome\n",
        "4. Property_Area\n",
        "5. Gender\n",
        "6. ApplicantIncome\n",
        "7. Dependents"
      ]
    },
    {
      "cell_type": "code",
      "metadata": {
        "id": "jvugNIHVhmld"
      },
      "source": [
        "df_train2 = df_train.copy()"
      ],
      "execution_count": 48,
      "outputs": []
    },
    {
      "cell_type": "code",
      "metadata": {
        "colab": {
          "base_uri": "https://localhost:8080/",
          "height": 206
        },
        "id": "r7lvgXTI63yA",
        "outputId": "c7aa6774-d0fc-4f75-d693-5faf4a6e5e30"
      },
      "source": [
        "df_train2.head()"
      ],
      "execution_count": 49,
      "outputs": [
        {
          "output_type": "execute_result",
          "data": {
            "text/html": [
              "<div>\n",
              "<style scoped>\n",
              "    .dataframe tbody tr th:only-of-type {\n",
              "        vertical-align: middle;\n",
              "    }\n",
              "\n",
              "    .dataframe tbody tr th {\n",
              "        vertical-align: top;\n",
              "    }\n",
              "\n",
              "    .dataframe thead th {\n",
              "        text-align: right;\n",
              "    }\n",
              "</style>\n",
              "<table border=\"1\" class=\"dataframe\">\n",
              "  <thead>\n",
              "    <tr style=\"text-align: right;\">\n",
              "      <th></th>\n",
              "      <th>Gender</th>\n",
              "      <th>Married</th>\n",
              "      <th>Dependents</th>\n",
              "      <th>Education</th>\n",
              "      <th>Self_Employed</th>\n",
              "      <th>ApplicantIncome</th>\n",
              "      <th>CoapplicantIncome</th>\n",
              "      <th>LoanAmount</th>\n",
              "      <th>Loan_Amount_Term</th>\n",
              "      <th>Credit_History</th>\n",
              "      <th>Property_Area</th>\n",
              "      <th>Loan_Status</th>\n",
              "      <th>TotalIncome</th>\n",
              "    </tr>\n",
              "  </thead>\n",
              "  <tbody>\n",
              "    <tr>\n",
              "      <th>0</th>\n",
              "      <td>1</td>\n",
              "      <td>0</td>\n",
              "      <td>0</td>\n",
              "      <td>0</td>\n",
              "      <td>0</td>\n",
              "      <td>8.674197</td>\n",
              "      <td>0.000000</td>\n",
              "      <td>4.993232</td>\n",
              "      <td>5.888878</td>\n",
              "      <td>1.0</td>\n",
              "      <td>2</td>\n",
              "      <td>1</td>\n",
              "      <td>8.674197</td>\n",
              "    </tr>\n",
              "    <tr>\n",
              "      <th>1</th>\n",
              "      <td>1</td>\n",
              "      <td>1</td>\n",
              "      <td>1</td>\n",
              "      <td>0</td>\n",
              "      <td>0</td>\n",
              "      <td>8.430327</td>\n",
              "      <td>7.319202</td>\n",
              "      <td>4.859812</td>\n",
              "      <td>5.888878</td>\n",
              "      <td>1.0</td>\n",
              "      <td>0</td>\n",
              "      <td>0</td>\n",
              "      <td>8.714732</td>\n",
              "    </tr>\n",
              "    <tr>\n",
              "      <th>2</th>\n",
              "      <td>1</td>\n",
              "      <td>1</td>\n",
              "      <td>0</td>\n",
              "      <td>0</td>\n",
              "      <td>1</td>\n",
              "      <td>8.006701</td>\n",
              "      <td>0.000000</td>\n",
              "      <td>4.204693</td>\n",
              "      <td>5.888878</td>\n",
              "      <td>1.0</td>\n",
              "      <td>2</td>\n",
              "      <td>1</td>\n",
              "      <td>8.006701</td>\n",
              "    </tr>\n",
              "    <tr>\n",
              "      <th>3</th>\n",
              "      <td>1</td>\n",
              "      <td>1</td>\n",
              "      <td>0</td>\n",
              "      <td>1</td>\n",
              "      <td>0</td>\n",
              "      <td>7.857094</td>\n",
              "      <td>7.765993</td>\n",
              "      <td>4.795791</td>\n",
              "      <td>5.888878</td>\n",
              "      <td>1.0</td>\n",
              "      <td>2</td>\n",
              "      <td>1</td>\n",
              "      <td>8.505525</td>\n",
              "    </tr>\n",
              "    <tr>\n",
              "      <th>4</th>\n",
              "      <td>1</td>\n",
              "      <td>0</td>\n",
              "      <td>0</td>\n",
              "      <td>0</td>\n",
              "      <td>0</td>\n",
              "      <td>8.699681</td>\n",
              "      <td>0.000000</td>\n",
              "      <td>4.955827</td>\n",
              "      <td>5.888878</td>\n",
              "      <td>1.0</td>\n",
              "      <td>2</td>\n",
              "      <td>1</td>\n",
              "      <td>8.699681</td>\n",
              "    </tr>\n",
              "  </tbody>\n",
              "</table>\n",
              "</div>"
            ],
            "text/plain": [
              "   Gender  Married  Dependents  ...  Property_Area  Loan_Status  TotalIncome\n",
              "0       1        0           0  ...              2            1     8.674197\n",
              "1       1        1           1  ...              0            0     8.714732\n",
              "2       1        1           0  ...              2            1     8.006701\n",
              "3       1        1           0  ...              2            1     8.505525\n",
              "4       1        0           0  ...              2            1     8.699681\n",
              "\n",
              "[5 rows x 13 columns]"
            ]
          },
          "metadata": {},
          "execution_count": 49
        }
      ]
    },
    {
      "cell_type": "code",
      "metadata": {
        "id": "cdOsCKLD66iz"
      },
      "source": [
        "df_train2 = df_train2[['Credit_History', 'Married', 'CoapplicantIncome', 'Property_Area', 'Gender', 'ApplicantIncome','Dependents','Loan_Status']]"
      ],
      "execution_count": 50,
      "outputs": []
    },
    {
      "cell_type": "code",
      "metadata": {
        "colab": {
          "base_uri": "https://localhost:8080/",
          "height": 206
        },
        "id": "Ez5a8MFt7EvS",
        "outputId": "d59933bc-61d6-4d5a-93db-6e4f1afbea61"
      },
      "source": [
        "df_train2.head()"
      ],
      "execution_count": 51,
      "outputs": [
        {
          "output_type": "execute_result",
          "data": {
            "text/html": [
              "<div>\n",
              "<style scoped>\n",
              "    .dataframe tbody tr th:only-of-type {\n",
              "        vertical-align: middle;\n",
              "    }\n",
              "\n",
              "    .dataframe tbody tr th {\n",
              "        vertical-align: top;\n",
              "    }\n",
              "\n",
              "    .dataframe thead th {\n",
              "        text-align: right;\n",
              "    }\n",
              "</style>\n",
              "<table border=\"1\" class=\"dataframe\">\n",
              "  <thead>\n",
              "    <tr style=\"text-align: right;\">\n",
              "      <th></th>\n",
              "      <th>Credit_History</th>\n",
              "      <th>Married</th>\n",
              "      <th>CoapplicantIncome</th>\n",
              "      <th>Property_Area</th>\n",
              "      <th>Gender</th>\n",
              "      <th>ApplicantIncome</th>\n",
              "      <th>Dependents</th>\n",
              "      <th>Loan_Status</th>\n",
              "    </tr>\n",
              "  </thead>\n",
              "  <tbody>\n",
              "    <tr>\n",
              "      <th>0</th>\n",
              "      <td>1.0</td>\n",
              "      <td>0</td>\n",
              "      <td>0.000000</td>\n",
              "      <td>2</td>\n",
              "      <td>1</td>\n",
              "      <td>8.674197</td>\n",
              "      <td>0</td>\n",
              "      <td>1</td>\n",
              "    </tr>\n",
              "    <tr>\n",
              "      <th>1</th>\n",
              "      <td>1.0</td>\n",
              "      <td>1</td>\n",
              "      <td>7.319202</td>\n",
              "      <td>0</td>\n",
              "      <td>1</td>\n",
              "      <td>8.430327</td>\n",
              "      <td>1</td>\n",
              "      <td>0</td>\n",
              "    </tr>\n",
              "    <tr>\n",
              "      <th>2</th>\n",
              "      <td>1.0</td>\n",
              "      <td>1</td>\n",
              "      <td>0.000000</td>\n",
              "      <td>2</td>\n",
              "      <td>1</td>\n",
              "      <td>8.006701</td>\n",
              "      <td>0</td>\n",
              "      <td>1</td>\n",
              "    </tr>\n",
              "    <tr>\n",
              "      <th>3</th>\n",
              "      <td>1.0</td>\n",
              "      <td>1</td>\n",
              "      <td>7.765993</td>\n",
              "      <td>2</td>\n",
              "      <td>1</td>\n",
              "      <td>7.857094</td>\n",
              "      <td>0</td>\n",
              "      <td>1</td>\n",
              "    </tr>\n",
              "    <tr>\n",
              "      <th>4</th>\n",
              "      <td>1.0</td>\n",
              "      <td>0</td>\n",
              "      <td>0.000000</td>\n",
              "      <td>2</td>\n",
              "      <td>1</td>\n",
              "      <td>8.699681</td>\n",
              "      <td>0</td>\n",
              "      <td>1</td>\n",
              "    </tr>\n",
              "  </tbody>\n",
              "</table>\n",
              "</div>"
            ],
            "text/plain": [
              "   Credit_History  Married  ...  Dependents  Loan_Status\n",
              "0             1.0        0  ...           0            1\n",
              "1             1.0        1  ...           1            0\n",
              "2             1.0        1  ...           0            1\n",
              "3             1.0        1  ...           0            1\n",
              "4             1.0        0  ...           0            1\n",
              "\n",
              "[5 rows x 8 columns]"
            ]
          },
          "metadata": {},
          "execution_count": 51
        }
      ]
    },
    {
      "cell_type": "code",
      "metadata": {
        "id": "ry-myvT07OSW"
      },
      "source": [
        "x = df_train2.iloc[:, :-1]\n",
        "y = df_train2.iloc[:,-1]"
      ],
      "execution_count": 52,
      "outputs": []
    },
    {
      "cell_type": "code",
      "metadata": {
        "colab": {
          "base_uri": "https://localhost:8080/",
          "height": 424
        },
        "id": "WSDcanwR7dYr",
        "outputId": "0faf5e24-136b-4664-bbc7-9c15a1e53263"
      },
      "source": [
        "x"
      ],
      "execution_count": 53,
      "outputs": [
        {
          "output_type": "execute_result",
          "data": {
            "text/html": [
              "<div>\n",
              "<style scoped>\n",
              "    .dataframe tbody tr th:only-of-type {\n",
              "        vertical-align: middle;\n",
              "    }\n",
              "\n",
              "    .dataframe tbody tr th {\n",
              "        vertical-align: top;\n",
              "    }\n",
              "\n",
              "    .dataframe thead th {\n",
              "        text-align: right;\n",
              "    }\n",
              "</style>\n",
              "<table border=\"1\" class=\"dataframe\">\n",
              "  <thead>\n",
              "    <tr style=\"text-align: right;\">\n",
              "      <th></th>\n",
              "      <th>Credit_History</th>\n",
              "      <th>Married</th>\n",
              "      <th>CoapplicantIncome</th>\n",
              "      <th>Property_Area</th>\n",
              "      <th>Gender</th>\n",
              "      <th>ApplicantIncome</th>\n",
              "      <th>Dependents</th>\n",
              "    </tr>\n",
              "  </thead>\n",
              "  <tbody>\n",
              "    <tr>\n",
              "      <th>0</th>\n",
              "      <td>1.0</td>\n",
              "      <td>0</td>\n",
              "      <td>0.000000</td>\n",
              "      <td>2</td>\n",
              "      <td>1</td>\n",
              "      <td>8.674197</td>\n",
              "      <td>0</td>\n",
              "    </tr>\n",
              "    <tr>\n",
              "      <th>1</th>\n",
              "      <td>1.0</td>\n",
              "      <td>1</td>\n",
              "      <td>7.319202</td>\n",
              "      <td>0</td>\n",
              "      <td>1</td>\n",
              "      <td>8.430327</td>\n",
              "      <td>1</td>\n",
              "    </tr>\n",
              "    <tr>\n",
              "      <th>2</th>\n",
              "      <td>1.0</td>\n",
              "      <td>1</td>\n",
              "      <td>0.000000</td>\n",
              "      <td>2</td>\n",
              "      <td>1</td>\n",
              "      <td>8.006701</td>\n",
              "      <td>0</td>\n",
              "    </tr>\n",
              "    <tr>\n",
              "      <th>3</th>\n",
              "      <td>1.0</td>\n",
              "      <td>1</td>\n",
              "      <td>7.765993</td>\n",
              "      <td>2</td>\n",
              "      <td>1</td>\n",
              "      <td>7.857094</td>\n",
              "      <td>0</td>\n",
              "    </tr>\n",
              "    <tr>\n",
              "      <th>4</th>\n",
              "      <td>1.0</td>\n",
              "      <td>0</td>\n",
              "      <td>0.000000</td>\n",
              "      <td>2</td>\n",
              "      <td>1</td>\n",
              "      <td>8.699681</td>\n",
              "      <td>0</td>\n",
              "    </tr>\n",
              "    <tr>\n",
              "      <th>...</th>\n",
              "      <td>...</td>\n",
              "      <td>...</td>\n",
              "      <td>...</td>\n",
              "      <td>...</td>\n",
              "      <td>...</td>\n",
              "      <td>...</td>\n",
              "      <td>...</td>\n",
              "    </tr>\n",
              "    <tr>\n",
              "      <th>609</th>\n",
              "      <td>1.0</td>\n",
              "      <td>0</td>\n",
              "      <td>0.000000</td>\n",
              "      <td>0</td>\n",
              "      <td>0</td>\n",
              "      <td>7.972811</td>\n",
              "      <td>0</td>\n",
              "    </tr>\n",
              "    <tr>\n",
              "      <th>610</th>\n",
              "      <td>1.0</td>\n",
              "      <td>1</td>\n",
              "      <td>0.000000</td>\n",
              "      <td>0</td>\n",
              "      <td>1</td>\n",
              "      <td>8.320448</td>\n",
              "      <td>3</td>\n",
              "    </tr>\n",
              "    <tr>\n",
              "      <th>611</th>\n",
              "      <td>1.0</td>\n",
              "      <td>1</td>\n",
              "      <td>5.484797</td>\n",
              "      <td>2</td>\n",
              "      <td>1</td>\n",
              "      <td>8.996280</td>\n",
              "      <td>1</td>\n",
              "    </tr>\n",
              "    <tr>\n",
              "      <th>612</th>\n",
              "      <td>1.0</td>\n",
              "      <td>1</td>\n",
              "      <td>0.000000</td>\n",
              "      <td>2</td>\n",
              "      <td>1</td>\n",
              "      <td>8.933796</td>\n",
              "      <td>2</td>\n",
              "    </tr>\n",
              "    <tr>\n",
              "      <th>613</th>\n",
              "      <td>0.0</td>\n",
              "      <td>0</td>\n",
              "      <td>0.000000</td>\n",
              "      <td>1</td>\n",
              "      <td>0</td>\n",
              "      <td>8.430327</td>\n",
              "      <td>0</td>\n",
              "    </tr>\n",
              "  </tbody>\n",
              "</table>\n",
              "<p>614 rows × 7 columns</p>\n",
              "</div>"
            ],
            "text/plain": [
              "     Credit_History  Married  ...  ApplicantIncome  Dependents\n",
              "0               1.0        0  ...         8.674197           0\n",
              "1               1.0        1  ...         8.430327           1\n",
              "2               1.0        1  ...         8.006701           0\n",
              "3               1.0        1  ...         7.857094           0\n",
              "4               1.0        0  ...         8.699681           0\n",
              "..              ...      ...  ...              ...         ...\n",
              "609             1.0        0  ...         7.972811           0\n",
              "610             1.0        1  ...         8.320448           3\n",
              "611             1.0        1  ...         8.996280           1\n",
              "612             1.0        1  ...         8.933796           2\n",
              "613             0.0        0  ...         8.430327           0\n",
              "\n",
              "[614 rows x 7 columns]"
            ]
          },
          "metadata": {},
          "execution_count": 53
        }
      ]
    },
    {
      "cell_type": "code",
      "metadata": {
        "colab": {
          "base_uri": "https://localhost:8080/"
        },
        "id": "_d8fu7Gh7eMx",
        "outputId": "4f7881b1-95b9-496c-844a-3779968abebe"
      },
      "source": [
        "y"
      ],
      "execution_count": 54,
      "outputs": [
        {
          "output_type": "execute_result",
          "data": {
            "text/plain": [
              "0      1\n",
              "1      0\n",
              "2      1\n",
              "3      1\n",
              "4      1\n",
              "      ..\n",
              "609    1\n",
              "610    1\n",
              "611    1\n",
              "612    1\n",
              "613    0\n",
              "Name: Loan_Status, Length: 614, dtype: int64"
            ]
          },
          "metadata": {},
          "execution_count": 54
        }
      ]
    },
    {
      "cell_type": "code",
      "metadata": {
        "id": "jFp1VBLl8cRS"
      },
      "source": [
        "x_train, x_test, y_train, y_test = train_test_split(x, y, test_size=0.2, random_state=1)"
      ],
      "execution_count": 55,
      "outputs": []
    },
    {
      "cell_type": "code",
      "metadata": {
        "colab": {
          "base_uri": "https://localhost:8080/"
        },
        "id": "pjcoTm_98oPR",
        "outputId": "f058f488-7989-40cd-e15d-25c3067b7bef"
      },
      "source": [
        "print(x_train.shape)\n",
        "print(x_test.shape)\n",
        "print(y_train.shape)\n",
        "print(y_test.shape)"
      ],
      "execution_count": 56,
      "outputs": [
        {
          "output_type": "stream",
          "name": "stdout",
          "text": [
            "(491, 7)\n",
            "(123, 7)\n",
            "(491,)\n",
            "(123,)\n"
          ]
        }
      ]
    },
    {
      "cell_type": "markdown",
      "metadata": {
        "id": "dkHBgzvq9KrG"
      },
      "source": [
        "# **Train Model**"
      ]
    },
    {
      "cell_type": "code",
      "metadata": {
        "id": "HORKoysx9Cpm"
      },
      "source": [
        "model = LogisticRegression()"
      ],
      "execution_count": 57,
      "outputs": []
    },
    {
      "cell_type": "code",
      "metadata": {
        "id": "RCsfkmoD9EWZ"
      },
      "source": [
        "model = model.fit(x_train, y_train)"
      ],
      "execution_count": 58,
      "outputs": []
    },
    {
      "cell_type": "markdown",
      "metadata": {
        "id": "I0Lr32pV9Ne4"
      },
      "source": [
        "# **Testing Model**"
      ]
    },
    {
      "cell_type": "code",
      "metadata": {
        "id": "62mCfJen9Par"
      },
      "source": [
        "y_pred = model.predict(x_test)"
      ],
      "execution_count": 59,
      "outputs": []
    },
    {
      "cell_type": "code",
      "metadata": {
        "colab": {
          "base_uri": "https://localhost:8080/"
        },
        "id": "SEzBN9I09U6c",
        "outputId": "34f29290-d9e7-4746-8b27-89ac9d681851"
      },
      "source": [
        "print('Accuracy Score: {}'.format(accuracy_score(y_test, y_pred)));\n",
        "print('Precision Score: {}'.format(precision_score(y_test, y_pred)));\n",
        "print('Recall Score: {}'.format(recall_score(y_test, y_pred)));\n",
        "print('F1 Score: {}'.format(f1_score(y_test, y_pred)));"
      ],
      "execution_count": 60,
      "outputs": [
        {
          "output_type": "stream",
          "name": "stdout",
          "text": [
            "Accuracy Score: 0.8048780487804879\n",
            "Precision Score: 0.7830188679245284\n",
            "Recall Score: 0.9880952380952381\n",
            "F1 Score: 0.8736842105263158\n"
          ]
        }
      ]
    },
    {
      "cell_type": "markdown",
      "metadata": {
        "id": "rDB-nhSNO1A2"
      },
      "source": [
        "Akurasi yang didapatkan dari model saya cukup baik karena sudah bisa melakukan prediksi sebesar 80 persen"
      ]
    },
    {
      "cell_type": "markdown",
      "metadata": {
        "id": "H9slNodqGBnb"
      },
      "source": [
        "# **Confusion Matrix**"
      ]
    },
    {
      "cell_type": "code",
      "metadata": {
        "id": "vfENf4wZ-AmM"
      },
      "source": [
        "conf_matrix_original = confusion_matrix(y_test, y_pred)"
      ],
      "execution_count": 61,
      "outputs": []
    },
    {
      "cell_type": "code",
      "metadata": {
        "colab": {
          "base_uri": "https://localhost:8080/",
          "height": 537
        },
        "id": "-vd6HS1E-d3D",
        "outputId": "9f157f44-6f1b-4309-e07b-59aceb94bc37"
      },
      "source": [
        "plt.figure(figsize=(9, 9))\n",
        "preview = sns.heatmap(conf_matrix_original, annot=True, fmt='g')\n",
        "preview.set(xticklabels=['Loan Status 0','Loan Status 1'], yticklabels=['Loan Status 0','Loan Status 1'])\n",
        "plt.show()"
      ],
      "execution_count": 62,
      "outputs": [
        {
          "output_type": "display_data",
          "data": {
            "image/png": "[encoded data removed]",
            "text/plain": [
              "<Figure size 648x648 with 2 Axes>"
            ]
          },
          "metadata": {
            "needs_background": "light"
          }
        }
      ]
    }
  ]
}